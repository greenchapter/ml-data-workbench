{
 "cells": [
  {
   "cell_type": "markdown",
   "id": "4a45d8f4-e605-4a1d-9978-aaecf2fcc98c",
   "metadata": {
    "tags": []
   },
   "source": [
    "## Verify TensorFlow 2 installation on Apple Silicon"
   ]
  },
  {
   "cell_type": "markdown",
   "id": "ddf5f17b-52fb-4a2e-bf05-76389f9e8ec6",
   "metadata": {
    "tags": []
   },
   "source": [
    "### Check the installed tensorflow version"
   ]
  },
  {
   "cell_type": "code",
   "execution_count": 3,
   "id": "c23d99a7-ac47-4127-823e-643148ac9b2a",
   "metadata": {
    "tags": []
   },
   "outputs": [
    {
     "name": "stdout",
     "output_type": "stream",
     "text": [
      "TensorFlow version: 2.11.0\n"
     ]
    }
   ],
   "source": [
    "import tensorflow as tf\n",
    "print(\"TensorFlow version:\", tf.__version__)"
   ]
  },
  {
   "cell_type": "markdown",
   "id": "3c3ef2ca-04f5-472c-bec8-fe68ed7d4b43",
   "metadata": {},
   "source": [
    "### Check the connected GPUs"
   ]
  },
  {
   "cell_type": "code",
   "execution_count": 4,
   "id": "c205db30-5211-4543-9392-6eac2d903e00",
   "metadata": {
    "tags": []
   },
   "outputs": [
    {
     "name": "stdout",
     "output_type": "stream",
     "text": [
      "Name: /physical_device:GPU:0   Type: GPU\n"
     ]
    }
   ],
   "source": [
    "import tensorflow as tf\n",
    "\n",
    "gpus = tf.config.list_physical_devices('GPU')\n",
    "for gpu in gpus:\n",
    "    print(\"Name:\", gpu.name, \"  Type:\", gpu.device_type)"
   ]
  },
  {
   "cell_type": "markdown",
   "id": "629bd6a9-fa17-4f72-981b-6d3af3d873ee",
   "metadata": {
    "tags": []
   },
   "source": [
    "### Train a ResNet50 model on CIFAR-100 dataset"
   ]
  },
  {
   "cell_type": "code",
   "execution_count": 5,
   "id": "c4a6353a-ecd2-4355-953f-83fd04123871",
   "metadata": {
    "tags": []
   },
   "outputs": [
    {
     "name": "stderr",
     "output_type": "stream",
     "text": [
      "/Users/thomas/Workshop/github/greenchapter/datascience-workbench/lib/python3.10/site-packages/keras/backend.py:5585: UserWarning: \"`sparse_categorical_crossentropy` received `from_logits=True`, but the `output` argument was produced by a Softmax activation and thus does not represent logits. Was this intended?\n",
      "  output, from_logits = _get_logits(\n"
     ]
    },
    {
     "name": "stdout",
     "output_type": "stream",
     "text": [
      "782/782 [==============================] - 79s 84ms/step - loss: 4.7535 - accuracy: 0.0694\n"
     ]
    },
    {
     "data": {
      "text/plain": [
       "<keras.callbacks.History at 0x29c934310>"
      ]
     },
     "execution_count": 5,
     "metadata": {},
     "output_type": "execute_result"
    }
   ],
   "source": [
    "import tensorflow as tf\n",
    "\n",
    "cifar = tf.keras.datasets.cifar100\n",
    "(x_train, y_train), (x_test, y_test) = cifar.load_data()\n",
    "model = tf.keras.applications.ResNet50(\n",
    "    include_top=True,\n",
    "    weights=None,\n",
    "    input_shape=(32, 32, 3),\n",
    "    classes=100,)\n",
    "\n",
    "loss_fn = tf.keras.losses.SparseCategoricalCrossentropy(from_logits=True)\n",
    "model.compile(optimizer = tf.keras.optimizers.legacy.Adam(),\n",
    "              loss=loss_fn,\n",
    "              metrics=[\"accuracy\"])\n",
    "\n",
    "model.fit(x_train, y_train, epochs=1, batch_size=64)"
   ]
  },
  {
   "cell_type": "markdown",
   "id": "74447a25-e774-4b5b-869f-a9228b385a70",
   "metadata": {},
   "source": [
    "#### Information\n",
    "\n",
    "Currently, it looks like that `tensorflow-macos==2.11.0` and `tensorflow-metal==0.7.0` can only compile models when you're using the legacy gradient descent optimization algorithm.\n",
    "\n",
    "`tf.keras.optimizers.legacy.Adam()`\n",
    "\n",
    "https://www.tensorflow.org/api_docs/python/tf/keras/optimizers/legacy\n",
    "\n",
    "https://developer.apple.com/forums/thread/721619?page=2\n",
    "\n",
    "If you would like to prevent using the legacy optimisers you have to step down to `tensorflow-macos==2.9.0` and `tensorflow-metal==0.5.0`"
   ]
  },
  {
   "cell_type": "markdown",
   "id": "3543646a-5e0d-47a9-87a9-3d545dc2e238",
   "metadata": {},
   "source": [
    "### Train a model on MNIST dataset"
   ]
  },
  {
   "cell_type": "code",
   "execution_count": 13,
   "id": "89e5dca8-7118-4587-8b15-2ffa6cb39d18",
   "metadata": {
    "tags": []
   },
   "outputs": [
    {
     "name": "stdout",
     "output_type": "stream",
     "text": [
      "1875/1875 [==============================] - 11s 6ms/step - loss: 0.2895 - accuracy: 0.9160\n",
      "313/313 - 1s - loss: 0.1422 - accuracy: 0.9588 - 1s/epoch - 4ms/step\n"
     ]
    },
    {
     "data": {
      "text/plain": [
       "[0.1422387957572937, 0.9588000178337097]"
      ]
     },
     "execution_count": 13,
     "metadata": {},
     "output_type": "execute_result"
    }
   ],
   "source": [
    "import tensorflow as tf\n",
    "\n",
    "mnist = tf.keras.datasets.mnist\n",
    "\n",
    "(x_train, y_train), (x_test, y_test) = mnist.load_data()\n",
    "x_train, x_test = x_train / 255.0, x_test / 255.0\n",
    "\n",
    "model = tf.keras.models.Sequential([\n",
    "  tf.keras.layers.Flatten(input_shape=(28, 28)),\n",
    "  tf.keras.layers.Dense(128, activation='relu'),\n",
    "  tf.keras.layers.Dropout(0.2),\n",
    "  tf.keras.layers.Dense(10)\n",
    "])\n",
    "\n",
    "predictions = model(x_train[:1]).numpy()\n",
    "loss_fn = tf.keras.losses.SparseCategoricalCrossentropy(from_logits=True)\n",
    "loss_fn(y_train[:1], predictions).numpy()\n",
    "model.compile(optimizer = tf.keras.optimizers.legacy.Adam(),\n",
    "              loss=loss_fn,\n",
    "              metrics=['accuracy'])\n",
    "\n",
    "model.fit(x_train, y_train, epochs=1)\n",
    "model.evaluate(x_test,  y_test, verbose=2)"
   ]
  },
  {
   "cell_type": "markdown",
   "id": "ab52299a-d2d1-4a0a-a3c0-27b6a1ee216e",
   "metadata": {},
   "source": [
    "## Helpful links\n",
    "\n",
    "[NumPy Documentation](https://numpy.org/doc/stable/index.html)\n",
    "\n",
    "[Tensorflow Resources](https://www.tensorflow.org/resources/)\n",
    "\n",
    "[Getting started with tensorflow-metal](https://developer.apple.com/metal/tensorflow-plugin/)\n",
    "\n",
    "[Apple Developer Forums tensorflow-metal](https://developer.apple.com/forums/tags/tensorflow-metal)"
   ]
  }
 ],
 "metadata": {
  "kernelspec": {
   "display_name": "Python 3 (ipykernel)",
   "language": "python",
   "name": "python3"
  },
  "language_info": {
   "codemirror_mode": {
    "name": "ipython",
    "version": 3
   },
   "file_extension": ".py",
   "mimetype": "text/x-python",
   "name": "python",
   "nbconvert_exporter": "python",
   "pygments_lexer": "ipython3",
   "version": "3.10.10"
  }
 },
 "nbformat": 4,
 "nbformat_minor": 5
}
